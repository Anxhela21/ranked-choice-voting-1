{
 "cells": [
  {
   "cell_type": "code",
   "execution_count": 1,
   "metadata": {},
   "outputs": [],
   "source": [
    "#Import libraries:\n",
    "import pandas as pd\n",
    "import random\n",
    "import numpy\n",
    "\n",
    "#Run to generate fake ballots for three candidats for a total of 1M ballots\n",
    "def Rand_vote(start, end, num): \n",
    "    votes = [] \n",
    "  \n",
    "    for j in range(num): \n",
    "        votes.append(random.randint(start, end)) \n",
    "\n",
    "    return votes \n",
    "\n",
    "\n",
    "#Candidate 1\n",
    "can1_num,can1_start,can1_end  = 1000000,1,3\n",
    "can1 = Rand_vote(can1_start, can1_end, can1_num)\n",
    "\n",
    "#Candidate 2\n",
    "can2_num,can2_start,can2_end  = 1000000,1,3\n",
    "can2 = Rand_vote(can2_start, can2_end, can2_num)\n",
    "\n",
    "#Candidate 3\n",
    "can3_num,can3_start,can3_end  = 1000000,1,3\n",
    "can3 = Rand_vote(can3_start, can3_end, can3_num)"
   ]
  },
  {
   "cell_type": "code",
   "execution_count": 2,
   "metadata": {},
   "outputs": [],
   "source": [
    "#Define election as pandas dataframe:\n",
    "ballots = {'Candidate_1': can1,\n",
    "           'Candidate_2': can2,\n",
    "           'Candidate_3': can3,\n",
    "        }\n",
    "\n",
    "df = pd.DataFrame(ballots, columns = ['Candidate_1','Candidate_2', 'Candidate_3'])"
   ]
  },
  {
   "cell_type": "code",
   "execution_count": 3,
   "metadata": {},
   "outputs": [],
   "source": [
    "#Making sure all candidates recieve unique ranking:\n",
    "df = df[(df['Candidate_1'] != df['Candidate_2']) & (df['Candidate_1'] != df['Candidate_3']) & (df['Candidate_2'] != df['Candidate_3'])]\n"
   ]
  },
  {
   "cell_type": "code",
   "execution_count": 4,
   "metadata": {},
   "outputs": [],
   "source": [
    "#Reset index:\n",
    "df = df.reset_index(drop=True)\n",
    "# del df['index']"
   ]
  },
  {
   "cell_type": "code",
   "execution_count": 5,
   "metadata": {},
   "outputs": [],
   "source": [
    "#Adding noise to the ballots:\n",
    "def add_noise(df, cand_1=\"Candidate_1\", cand_2=\"Candidate_2\", cand_3='Candidate_3', noise1=0.10, noise2=.05, noise3=.05):\n",
    "    \"\"\"\n",
    "    inputs: \n",
    "    df - election dataframe\n",
    "    cand_1, cand_2, cand_3 - candidates\n",
    "    noise1, noise2, noise3 - % of election that consists of noise type (partial votes)\n",
    "    \n",
    "    outputs:\n",
    "    df with noise updates\n",
    "    \"\"\"\n",
    "    wrong_votes = df.sample(frac=noise1)\n",
    "    wrong_votes2 = df.sample(frac=noise2)\n",
    "    wrong_votes3 = df.sample(frac=noise3)\n",
    "    wrong_votes[['Candidate_1','Candidate_2','Candidate_3']] = numpy.random.permutation([1,0,0])\n",
    "    wrong_votes2[['Candidate_1','Candidate_2','Candidate_3']] =numpy.random.permutation([1,2,0])\n",
    "    wrong_votes3[['Candidate_1','Candidate_2','Candidate_3']] =numpy.random.permutation([0,2,3])\n",
    "\n",
    "    df.update(wrong_votes)\n",
    "    df.update(wrong_votes2)\n",
    "    df.update(wrong_votes3)\n",
    "    return df\n",
    "\n",
    "df = add_noise(df)"
   ]
  },
  {
   "cell_type": "code",
   "execution_count": null,
   "metadata": {},
   "outputs": [],
   "source": [
    "# Now we have our first election named df"
   ]
  },
  {
   "cell_type": "code",
   "execution_count": 13,
   "metadata": {},
   "outputs": [],
   "source": [
    "# Now we can generate multiple elections with added noise by permuting initial dataframe and returning a \n",
    "# completely new election. The following function does this:\n",
    "\n",
    "def make_election(df=df):\n",
    "    perm = np.random.permutation(df.shape[0])\n",
    "    new_df = df.take(perm)\n",
    "    new_df = new_df.reset_index(drop=True)\n",
    "    return new_df"
   ]
  },
  {
   "cell_type": "code",
   "execution_count": 14,
   "metadata": {},
   "outputs": [],
   "source": [
    "#Calling the function above and passing old election dataframe and storing in new dataframe variable (df2):\n",
    "df2 = make_election(df)"
   ]
  },
  {
   "cell_type": "code",
   "execution_count": 16,
   "metadata": {},
   "outputs": [],
   "source": [
    "# We can do this to create infinite number of permuted elections:\n",
    "df3 = make_election(df2)"
   ]
  }
 ],
 "metadata": {
  "kernelspec": {
   "display_name": "Python 3",
   "language": "python",
   "name": "python3"
  },
  "language_info": {
   "codemirror_mode": {
    "name": "ipython",
    "version": 3
   },
   "file_extension": ".py",
   "mimetype": "text/x-python",
   "name": "python",
   "nbconvert_exporter": "python",
   "pygments_lexer": "ipython3",
   "version": "3.7.6"
  }
 },
 "nbformat": 4,
 "nbformat_minor": 1
}
