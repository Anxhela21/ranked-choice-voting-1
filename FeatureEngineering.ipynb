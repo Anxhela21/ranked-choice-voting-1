{
 "cells": [
  {
   "cell_type": "code",
   "execution_count": 10,
   "metadata": {},
   "outputs": [
    {
     "name": "stdout",
     "output_type": "stream",
     "text": [
      "Collecting pyrankvote==2.0.0\n",
      "  Downloading pyrankvote-2.0.0-py3-none-any.whl (13 kB)\n",
      "Requirement already satisfied: tabulate in /Users/anxhela/anaconda3/lib/python3.7/site-packages (from pyrankvote==2.0.0) (0.8.7)\n",
      "Installing collected packages: pyrankvote\n",
      "  Attempting uninstall: pyrankvote\n",
      "    Found existing installation: pyrankvote 1.0.9\n",
      "    Uninstalling pyrankvote-1.0.9:\n",
      "      Successfully uninstalled pyrankvote-1.0.9\n",
      "Successfully installed pyrankvote-2.0.0\n"
     ]
    }
   ],
   "source": [
    "!pip install pyrankvote==2.0.0"
   ]
  },
  {
   "cell_type": "code",
   "execution_count": 11,
   "metadata": {},
   "outputs": [
    {
     "name": "stdout",
     "output_type": "stream",
     "text": [
      "3.7.6\n"
     ]
    }
   ],
   "source": [
    "from platform import python_version\n",
    "\n",
    "print(python_version())"
   ]
  },
  {
   "cell_type": "code",
   "execution_count": 12,
   "metadata": {},
   "outputs": [],
   "source": [
    "import pyrankvote\n",
    "import ast\n",
    "import pandas as pd\n",
    "from pyrankvote import Candidate, Ballot\n",
    "\n",
    "\n",
    "def rename_index_col_to_ballot_id(df):\n",
    "    df.rename(columns={'Unnamed: 0': 'ballot_id'}, inplace=True)\n",
    "    return df\n",
    "\n",
    "def get_cand_list(df):\n",
    "    list_of_unique_vals_in_dataframe = df.iloc[:, 1].value_counts().index\n",
    "    cand_list = list(filter(lambda x: x != '0', list_of_unique_vals_in_dataframe))\n",
    "    return cand_list\n",
    "\n",
    "def initialize_cand_objs(cand_list):\n",
    "    if isinstance(cand_list, str):\n",
    "        return [Candidate(c) for c in cand_list.split(', ')]\n",
    "    else:\n",
    "        return [Candidate(c) for c in cand_list]\n",
    "\n",
    "# def initialize_cand_objs_in_df_cols(df):\n",
    "#     cands_df = df.iloc[:, 1:]  # getting all columns with candidate names in them\n",
    "#     cands_df = cands_df.applymap(lambda x: create_cand(x))  # making them into pyrankvote candidate objects\n",
    "#     cands_df['ballot_id'] = df.iloc[:, 0]  # stitching df back with ballot_ids from old dataframe\n",
    "#     return cands_df\n",
    "\n",
    "def get_cands_into_single_cell(df):\n",
    "    df['candidate_list'] = df.iloc[:, 1:].agg(\", \".join, axis=1)\n",
    "    # cands_to_put_in_single_cell = df.iloc[:, 1:].columns.to_list()\n",
    "    # df['candidate_list'] = str(cands_to_put_in_single_cell)\n",
    "    # df['candidate_list'] = df['candidate_list'].apply(lambda x: ast.literal_eval(x))\n",
    "    return df\n",
    "\n",
    "def initialize_ballot_objs(df):\n",
    "    ballot_objects = []\n",
    "    for index, value in enumerate(df['candidate_list']):\n",
    "        ballot = Ballot(ranked_candidates=value)\n",
    "        ballot_objects.append(ballot)\n",
    "    return ballot_objects\n",
    "\n",
    "def run_election(list_of_cand_objs, election_df):\n",
    "    return pyrankvote.instant_runoff_voting(list_of_cand_objs, election_df['ballots'], pick_random_if_blank=True)\n",
    "\n",
    "def rm_invalid_rows(df):\n",
    "    return df[df['candidate_list'] != '0']\n",
    "\n",
    "def run_all_steps(df):\n",
    "    election_dict = {}\n",
    "    #df = pd.read_csv('/Users/shvarugh/Documents/myGit/ranked-choice-voting/master_elections.csv')\n",
    "#     df = rename_index_col_to_ballot_id(df)\n",
    "    df = df.dropna(axis=1, how='all')\n",
    "    df = df.drop(['ballot_id','filename'], axis=1)\n",
    "    print('df.shape:',df.shape)\n",
    "    df = get_cands_into_single_cell(df)\n",
    "\n",
    "    df['candidate_list'] = df['candidate_list'].apply(lambda x: x.replace('0, ', '').replace(', 0', ''))\n",
    "    df = rm_invalid_rows(df)\n",
    "    df['candidate_list'] = df['candidate_list'].apply(lambda x: initialize_cand_objs(x))\n",
    "\n",
    "    ballots = initialize_ballot_objs(df)\n",
    "    df['ballots'] = ballots\n",
    "    \n",
    "    cand_list = get_cand_list(df)\n",
    "    cand_list = initialize_cand_objs(cand_list)\n",
    "    print(\"cand_list: \",cand_list)\n",
    "#     print(df.head())\n",
    "    election = run_election(cand_list, df)\n",
    "    winner = election.get_winners()\n",
    "    print(\"get_winners\",winner)\n",
    "    election_dict['winner'] = winner\n",
    "    #df[\"irv_winner\"] = winner\n",
    "    print(\"rounds\",len(election.rounds))\n",
    "    election_dict['rounds'] = len(election.rounds)\n",
    "\n",
    "#     open file and write results. read winners votes from file and write to df\n",
    "    #print(\"register_round_results\",election.register_round_results(election.rounds[-1]))\n",
    "\n",
    "    print(\"election:\", election)\n",
    "    #election_dict['election'] = election\n",
    "\n",
    "#     print(\"election type:\", type(election))\n",
    "    #election_dict['register']=election.register_round_results(election.rounds[-1])\n",
    "\n",
    "    #print('hi')\n",
    "    return df, election_dict\n",
    "\n",
    "def read_votes(file, election_dict):\n",
    "    with open(file, 'r') as file1:\n",
    "        count = 0\n",
    "        while True: \n",
    "            count += 1\n",
    "\n",
    "            # Get next line from file \n",
    "            line = file1.readline()\n",
    "            if not line: \n",
    "                break\n",
    "            strip_line = line.strip()\n",
    "    #         print('*',strip_line,'*')\n",
    "            if 'ROUND' in strip_line or 'FINAL' in strip_line:\n",
    "                start_round = True\n",
    "                if 'ROUND 1' in strip_line or 'FINAL' in strip_line:\n",
    "                    monitor_round=True\n",
    "                    print('*',strip_line,'*')\n",
    "                else:\n",
    "                    monitor_round=False\n",
    "            if 'ROUND' not in strip_line and  'FINAL' not in strip_line:\n",
    "                start_round = False\n",
    "                if winner in line and monitor_round:\n",
    "                    print('*',strip_line,'*')\n",
    "                    if 'firstRoundVotes' not in election_dict:\n",
    "                        election_dict['firstRoundVotes']=[int(s) for s in strip_line.split() if s.isdigit()].pop()\n",
    "                    else:\n",
    "                        election_dict['finalRoundVotes']=[int(s) for s in strip_line.split() if s.isdigit()].pop()\n",
    "                    \n",
    "    file1.close() \n",
    "    "
   ]
  },
  {
   "cell_type": "code",
   "execution_count": 13,
   "metadata": {},
   "outputs": [],
   "source": [
    "df = pd.read_csv('pyrankobjs/master_elections.csv')\n",
    "df = rename_index_col_to_ballot_id(df)\n",
    "# df['irv_winner']=\"\"\n",
    "df = df[(df['filename']!=\"election_05-04-2020_08-39-40_5cands_12noise.csv\") | (df['ballot_id']!=2767)]\n",
    "df = df[(df['filename']!=\"election_04-30-2020_21-07-57_4_0.01.csv\") | (df['ballot_id']!=20726)]\n",
    "master_df = df.copy(deep=True)"
   ]
  },
  {
   "cell_type": "code",
   "execution_count": 14,
   "metadata": {},
   "outputs": [
    {
     "name": "stdout",
     "output_type": "stream",
     "text": [
      "df.shape: (2767, 5)\n",
      "cand_list:  [<Candidate('candidate_1')>, <Candidate('candidate_4')>, <Candidate('candidate_3')>, <Candidate('candidate_2')>, <Candidate('candidate_5')>]\n"
     ]
    },
    {
     "ename": "TypeError",
     "evalue": "instant_runoff_voting() got an unexpected keyword argument 'pick_random_if_blank'",
     "output_type": "error",
     "traceback": [
      "\u001b[0;31m---------------------------------------------------------------------------\u001b[0m",
      "\u001b[0;31mTypeError\u001b[0m                                 Traceback (most recent call last)",
      "\u001b[0;32m<ipython-input-14-add9ed8f80dc>\u001b[0m in \u001b[0;36m<module>\u001b[0;34m\u001b[0m\n\u001b[1;32m     20\u001b[0m \u001b[0mprint\u001b[0m\u001b[0;34m(\u001b[0m\u001b[0;34m\"cand_list: \"\u001b[0m\u001b[0;34m,\u001b[0m\u001b[0mcand_list\u001b[0m\u001b[0;34m)\u001b[0m\u001b[0;34m\u001b[0m\u001b[0;34m\u001b[0m\u001b[0m\n\u001b[1;32m     21\u001b[0m \u001b[0;31m#     print(df.head())\u001b[0m\u001b[0;34m\u001b[0m\u001b[0;34m\u001b[0m\u001b[0;34m\u001b[0m\u001b[0m\n\u001b[0;32m---> 22\u001b[0;31m \u001b[0melection\u001b[0m \u001b[0;34m=\u001b[0m \u001b[0mrun_election\u001b[0m\u001b[0;34m(\u001b[0m\u001b[0mcand_list\u001b[0m\u001b[0;34m,\u001b[0m \u001b[0mdf\u001b[0m\u001b[0;34m)\u001b[0m\u001b[0;34m\u001b[0m\u001b[0;34m\u001b[0m\u001b[0m\n\u001b[0m\u001b[1;32m     23\u001b[0m \u001b[0mwinner\u001b[0m \u001b[0;34m=\u001b[0m \u001b[0melection\u001b[0m\u001b[0;34m.\u001b[0m\u001b[0mget_winners\u001b[0m\u001b[0;34m(\u001b[0m\u001b[0;34m)\u001b[0m\u001b[0;34m\u001b[0m\u001b[0;34m\u001b[0m\u001b[0m\n\u001b[1;32m     24\u001b[0m \u001b[0mprint\u001b[0m\u001b[0;34m(\u001b[0m\u001b[0;34m\"get_winners\"\u001b[0m\u001b[0;34m,\u001b[0m\u001b[0mwinner\u001b[0m\u001b[0;34m)\u001b[0m\u001b[0;34m\u001b[0m\u001b[0;34m\u001b[0m\u001b[0m\n",
      "\u001b[0;32m<ipython-input-12-2e19a1106267>\u001b[0m in \u001b[0;36mrun_election\u001b[0;34m(list_of_cand_objs, election_df)\u001b[0m\n\u001b[1;32m     41\u001b[0m \u001b[0;34m\u001b[0m\u001b[0m\n\u001b[1;32m     42\u001b[0m \u001b[0;32mdef\u001b[0m \u001b[0mrun_election\u001b[0m\u001b[0;34m(\u001b[0m\u001b[0mlist_of_cand_objs\u001b[0m\u001b[0;34m,\u001b[0m \u001b[0melection_df\u001b[0m\u001b[0;34m)\u001b[0m\u001b[0;34m:\u001b[0m\u001b[0;34m\u001b[0m\u001b[0;34m\u001b[0m\u001b[0m\n\u001b[0;32m---> 43\u001b[0;31m     \u001b[0;32mreturn\u001b[0m \u001b[0mpyrankvote\u001b[0m\u001b[0;34m.\u001b[0m\u001b[0minstant_runoff_voting\u001b[0m\u001b[0;34m(\u001b[0m\u001b[0mlist_of_cand_objs\u001b[0m\u001b[0;34m,\u001b[0m \u001b[0melection_df\u001b[0m\u001b[0;34m[\u001b[0m\u001b[0;34m'ballots'\u001b[0m\u001b[0;34m]\u001b[0m\u001b[0;34m,\u001b[0m \u001b[0mpick_random_if_blank\u001b[0m\u001b[0;34m=\u001b[0m\u001b[0;32mTrue\u001b[0m\u001b[0;34m)\u001b[0m\u001b[0;34m\u001b[0m\u001b[0;34m\u001b[0m\u001b[0m\n\u001b[0m\u001b[1;32m     44\u001b[0m \u001b[0;34m\u001b[0m\u001b[0m\n\u001b[1;32m     45\u001b[0m \u001b[0;32mdef\u001b[0m \u001b[0mrm_invalid_rows\u001b[0m\u001b[0;34m(\u001b[0m\u001b[0mdf\u001b[0m\u001b[0;34m)\u001b[0m\u001b[0;34m:\u001b[0m\u001b[0;34m\u001b[0m\u001b[0;34m\u001b[0m\u001b[0m\n",
      "\u001b[0;31mTypeError\u001b[0m: instant_runoff_voting() got an unexpected keyword argument 'pick_random_if_blank'"
     ]
    }
   ],
   "source": [
    "election_dict = {}\n",
    "#df = pd.read_csv('/Users/shvarugh/Documents/myGit/ranked-choice-voting/master_elections.csv')\n",
    "#     df = rename_index_col_to_ballot_id(df)\n",
    "df = df[df['filename']==\"election_05-04-2020_08-39-40_5cands_12noise.csv\"]\n",
    "df.to_csv('election11.csv', index = False, header=True)\n",
    "df = df.dropna(axis=1, how='all')\n",
    "df = df.drop(['ballot_id','filename'], axis=1)\n",
    "print('df.shape:',df.shape)\n",
    "df = get_cands_into_single_cell(df)\n",
    "\n",
    "df['candidate_list'] = df['candidate_list'].apply(lambda x: x.replace('0, ', '').replace(', 0', ''))\n",
    "df = rm_invalid_rows(df)\n",
    "df['candidate_list'] = df['candidate_list'].apply(lambda x: initialize_cand_objs(x))\n",
    "\n",
    "ballots = initialize_ballot_objs(df)\n",
    "df['ballots'] = ballots\n",
    "\n",
    "cand_list = get_cand_list(df)\n",
    "cand_list = initialize_cand_objs(cand_list)\n",
    "print(\"cand_list: \",cand_list)\n",
    "#     print(df.head())\n",
    "election = run_election(cand_list, df)\n",
    "winner = election.get_winners()\n",
    "print(\"get_winners\",winner)\n",
    "election_dict['winner'] = winner\n",
    "#df[\"irv_winner\"] = winner\n",
    "print(\"rounds\",len(election.rounds))\n",
    "election_dict['rounds'] = len(election.rounds)\n",
    "\n",
    "#     open file and write results. read winners votes from file and write to df\n",
    "#print(\"register_round_results\",election.register_round_results(election.rounds[-1]))\n",
    "\n",
    "print(\"election:\", election)\n",
    "election_dict['election'] = election\n",
    "\n",
    "#     print(\"election type:\", type(election))\n",
    "#election_dict['register']=election.register_round_results(election.rounds[-1])\n",
    "\n",
    "#print('hi')\n",
    "# return df, election_dict"
   ]
  },
  {
   "cell_type": "code",
   "execution_count": null,
   "metadata": {},
   "outputs": [],
   "source": []
  }
 ],
 "metadata": {
  "kernelspec": {
   "display_name": "Python 3",
   "language": "python",
   "name": "python3"
  },
  "language_info": {
   "codemirror_mode": {
    "name": "ipython",
    "version": 3
   },
   "file_extension": ".py",
   "mimetype": "text/x-python",
   "name": "python",
   "nbconvert_exporter": "python",
   "pygments_lexer": "ipython3",
   "version": "3.7.6"
  }
 },
 "nbformat": 4,
 "nbformat_minor": 4
}
